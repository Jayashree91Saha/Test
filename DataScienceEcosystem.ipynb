{
 "cells": [
  {
   "cell_type": "markdown",
   "id": "73f451b1",
   "metadata": {},
   "source": [
    "# Data Science Tools and Ecosystem"
   ]
  },
  {
   "cell_type": "markdown",
   "id": "449c7f81",
   "metadata": {},
   "source": [
    "In this notebook, Data Science Tools and Ecosystem are summarized."
   ]
  },
  {
   "cell_type": "markdown",
   "id": "3db55435",
   "metadata": {},
   "source": [
    "**Objectives:**\n",
    " - Some of the popular languages used in Data Science\n",
    " - Some of the libraries used in Data Science\n",
    " - Open Scource IDE\n",
    " - Repository "
   ]
  },
  {
   "cell_type": "markdown",
   "id": "78d62614",
   "metadata": {},
   "source": [
    "Some of the popular languages that Data Scientists use are:\n",
    "1) Python\n",
    "\n",
    "2) Sql\n",
    "\n",
    "3) R"
   ]
  },
  {
   "cell_type": "markdown",
   "id": "3c26590b",
   "metadata": {},
   "source": [
    "Some of the commonly used libraries used by Data Scientists include:\n",
    "1) Numpy\n",
    "\n",
    "2) Pandas\n",
    "\n",
    "3) Scikit Learn\n",
    "\n",
    "4) Matplotlib\n",
    "\n",
    "5) Seaborn"
   ]
  },
  {
   "cell_type": "markdown",
   "id": "56e3e0f7",
   "metadata": {},
   "source": [
    "|Data Science Tools|\n",
    "|------------------|\n",
    "|Jupyter Notebook|\n",
    "|Spyder|\n",
    "|Google Collab|\n"
   ]
  },
  {
   "cell_type": "markdown",
   "id": "0ffef2bb",
   "metadata": {},
   "source": [
    "### Below are a few examples of evaluating arithmetic expressions in Python"
   ]
  },
  {
   "cell_type": "code",
   "execution_count": 16,
   "id": "11640b73",
   "metadata": {},
   "outputs": [
    {
     "data": {
      "text/plain": [
       "17"
      ]
     },
     "execution_count": 16,
     "metadata": {},
     "output_type": "execute_result"
    }
   ],
   "source": [
    "# This a simple arithmetic expression to mutiply then add integers.\n",
    "(3*4)+5 "
   ]
  },
  {
   "cell_type": "code",
   "execution_count": 17,
   "id": "ca777d3f",
   "metadata": {},
   "outputs": [
    {
     "data": {
      "text/plain": [
       "3.3333333333333335"
      ]
     },
     "execution_count": 17,
     "metadata": {},
     "output_type": "execute_result"
    }
   ],
   "source": [
    "#  This will convert 200 minutes to hours by diving by 60.\n",
    "200/60"
   ]
  },
  {
   "cell_type": "markdown",
   "id": "d2d8c4a9",
   "metadata": {},
   "source": [
    "## Author\n",
    "Jayashree Saha"
   ]
  },
  {
   "cell_type": "code",
   "execution_count": null,
   "id": "8364fde9",
   "metadata": {},
   "outputs": [],
   "source": []
  }
 ],
 "metadata": {
  "kernelspec": {
   "display_name": "Python 3 (ipykernel)",
   "language": "python",
   "name": "python3"
  },
  "language_info": {
   "codemirror_mode": {
    "name": "ipython",
    "version": 3
   },
   "file_extension": ".py",
   "mimetype": "text/x-python",
   "name": "python",
   "nbconvert_exporter": "python",
   "pygments_lexer": "ipython3",
   "version": "3.9.12"
  }
 },
 "nbformat": 4,
 "nbformat_minor": 5
}
